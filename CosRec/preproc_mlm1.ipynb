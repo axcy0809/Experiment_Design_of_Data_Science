{
 "metadata": {
  "language_info": {
   "codemirror_mode": {
    "name": "ipython",
    "version": 3
   },
   "file_extension": ".py",
   "mimetype": "text/x-python",
   "name": "python",
   "nbconvert_exporter": "python",
   "pygments_lexer": "ipython3",
   "version": "3.7.5-final"
  },
  "orig_nbformat": 2,
  "kernelspec": {
   "name": "python37564bitb5f188b5fd4549769c9ea1e1a366fa0d",
   "display_name": "Python 3.7.5 64-bit",
   "language": "python"
  }
 },
 "nbformat": 4,
 "nbformat_minor": 2,
 "cells": [
  {
   "cell_type": "code",
   "execution_count": 1,
   "metadata": {},
   "outputs": [],
   "source": [
    "import pandas as pd\n",
    "import seaborn as sns\n",
    "import matplotlib.pyplot as plt\n",
    "import numpy as np\n",
    "import matplotlib as mpl\n",
    "\n",
    "from sklearn.model_selection import train_test_split\n"
   ]
  },
  {
   "cell_type": "code",
   "execution_count": 103,
   "metadata": {},
   "outputs": [
    {
     "output_type": "execute_result",
     "data": {
      "text/plain": [
       "         user_id  movie_id  rating  timestamp\n",
       "0              1      1193       5  978300760\n",
       "1              1       661       3  978302109\n",
       "2              1       914       3  978301968\n",
       "3              1      3408       4  978300275\n",
       "4              1      2355       5  978824291\n",
       "...          ...       ...     ...        ...\n",
       "1000204     6040      1091       1  956716541\n",
       "1000205     6040      1094       5  956704887\n",
       "1000206     6040       562       5  956704746\n",
       "1000207     6040      1096       4  956715648\n",
       "1000208     6040      1097       4  956715569\n",
       "\n",
       "[1000209 rows x 4 columns]"
      ],
      "text/html": "<div>\n<style scoped>\n    .dataframe tbody tr th:only-of-type {\n        vertical-align: middle;\n    }\n\n    .dataframe tbody tr th {\n        vertical-align: top;\n    }\n\n    .dataframe thead th {\n        text-align: right;\n    }\n</style>\n<table border=\"1\" class=\"dataframe\">\n  <thead>\n    <tr style=\"text-align: right;\">\n      <th></th>\n      <th>user_id</th>\n      <th>movie_id</th>\n      <th>rating</th>\n      <th>timestamp</th>\n    </tr>\n  </thead>\n  <tbody>\n    <tr>\n      <th>0</th>\n      <td>1</td>\n      <td>1193</td>\n      <td>5</td>\n      <td>978300760</td>\n    </tr>\n    <tr>\n      <th>1</th>\n      <td>1</td>\n      <td>661</td>\n      <td>3</td>\n      <td>978302109</td>\n    </tr>\n    <tr>\n      <th>2</th>\n      <td>1</td>\n      <td>914</td>\n      <td>3</td>\n      <td>978301968</td>\n    </tr>\n    <tr>\n      <th>3</th>\n      <td>1</td>\n      <td>3408</td>\n      <td>4</td>\n      <td>978300275</td>\n    </tr>\n    <tr>\n      <th>4</th>\n      <td>1</td>\n      <td>2355</td>\n      <td>5</td>\n      <td>978824291</td>\n    </tr>\n    <tr>\n      <th>...</th>\n      <td>...</td>\n      <td>...</td>\n      <td>...</td>\n      <td>...</td>\n    </tr>\n    <tr>\n      <th>1000204</th>\n      <td>6040</td>\n      <td>1091</td>\n      <td>1</td>\n      <td>956716541</td>\n    </tr>\n    <tr>\n      <th>1000205</th>\n      <td>6040</td>\n      <td>1094</td>\n      <td>5</td>\n      <td>956704887</td>\n    </tr>\n    <tr>\n      <th>1000206</th>\n      <td>6040</td>\n      <td>562</td>\n      <td>5</td>\n      <td>956704746</td>\n    </tr>\n    <tr>\n      <th>1000207</th>\n      <td>6040</td>\n      <td>1096</td>\n      <td>4</td>\n      <td>956715648</td>\n    </tr>\n    <tr>\n      <th>1000208</th>\n      <td>6040</td>\n      <td>1097</td>\n      <td>4</td>\n      <td>956715569</td>\n    </tr>\n  </tbody>\n</table>\n<p>1000209 rows × 4 columns</p>\n</div>"
     },
     "metadata": {},
     "execution_count": 103
    }
   ],
   "source": [
    "r_cols = ['user_id', 'movie_id', 'rating', 'timestamp']\n",
    "ratings = pd.read_csv(\"ml_1m/ratings.dat\", sep='::', names=r_cols)\n",
    "ratings"
   ]
  },
  {
   "cell_type": "code",
   "execution_count": 108,
   "metadata": {},
   "outputs": [],
   "source": [
    "x_train_hold = []\n",
    "x_test_hold = []\n",
    "for i in range(1,6041):\n",
    "    df = ratings[ratings.user_id == i]\n",
    "    df = df.sort_values(by=['timestamp'], ascending=False)\n",
    "    df.drop('timestamp',axis='columns', inplace=True)\n",
    "    df = np.array(df)\n",
    "    if len(df) >= 5:\n",
    "        for n in range(int(len(df)*0.8)):\n",
    "            x_train_hold.append(df[n])\n",
    "        for n in range(int(len(df)*0.2)):\n",
    "            x_test_hold.append(df[n])"
   ]
  },
  {
   "cell_type": "code",
   "execution_count": 109,
   "metadata": {},
   "outputs": [
    {
     "output_type": "execute_result",
     "data": {
      "text/plain": [
       "           0     1  2\n",
       "0          1    48  5\n",
       "1          1  1566  4\n",
       "2          1  1907  4\n",
       "3          1  2294  4\n",
       "4          1  2355  5\n",
       "...      ...   ... ..\n",
       "197651  6040  3108  4\n",
       "197652  6040  1354  4\n",
       "197653  6040  1244  4\n",
       "197654  6040  1283  4\n",
       "197655  6040    32  4\n",
       "\n",
       "[197656 rows x 3 columns]"
      ],
      "text/html": "<div>\n<style scoped>\n    .dataframe tbody tr th:only-of-type {\n        vertical-align: middle;\n    }\n\n    .dataframe tbody tr th {\n        vertical-align: top;\n    }\n\n    .dataframe thead th {\n        text-align: right;\n    }\n</style>\n<table border=\"1\" class=\"dataframe\">\n  <thead>\n    <tr style=\"text-align: right;\">\n      <th></th>\n      <th>0</th>\n      <th>1</th>\n      <th>2</th>\n    </tr>\n  </thead>\n  <tbody>\n    <tr>\n      <th>0</th>\n      <td>1</td>\n      <td>48</td>\n      <td>5</td>\n    </tr>\n    <tr>\n      <th>1</th>\n      <td>1</td>\n      <td>1566</td>\n      <td>4</td>\n    </tr>\n    <tr>\n      <th>2</th>\n      <td>1</td>\n      <td>1907</td>\n      <td>4</td>\n    </tr>\n    <tr>\n      <th>3</th>\n      <td>1</td>\n      <td>2294</td>\n      <td>4</td>\n    </tr>\n    <tr>\n      <th>4</th>\n      <td>1</td>\n      <td>2355</td>\n      <td>5</td>\n    </tr>\n    <tr>\n      <th>...</th>\n      <td>...</td>\n      <td>...</td>\n      <td>...</td>\n    </tr>\n    <tr>\n      <th>197651</th>\n      <td>6040</td>\n      <td>3108</td>\n      <td>4</td>\n    </tr>\n    <tr>\n      <th>197652</th>\n      <td>6040</td>\n      <td>1354</td>\n      <td>4</td>\n    </tr>\n    <tr>\n      <th>197653</th>\n      <td>6040</td>\n      <td>1244</td>\n      <td>4</td>\n    </tr>\n    <tr>\n      <th>197654</th>\n      <td>6040</td>\n      <td>1283</td>\n      <td>4</td>\n    </tr>\n    <tr>\n      <th>197655</th>\n      <td>6040</td>\n      <td>32</td>\n      <td>4</td>\n    </tr>\n  </tbody>\n</table>\n<p>197656 rows × 3 columns</p>\n</div>"
     },
     "metadata": {},
     "execution_count": 109
    }
   ],
   "source": [
    "pd.DataFrame(x_test_hold)"
   ]
  },
  {
   "cell_type": "code",
   "execution_count": 110,
   "metadata": {},
   "outputs": [
    {
     "output_type": "execute_result",
     "data": {
      "text/plain": [
       "           0     1  2\n",
       "0          1    48  5\n",
       "1          1  1566  4\n",
       "2          1  1907  4\n",
       "3          1  2294  4\n",
       "4          1  2355  5\n",
       "...      ...   ... ..\n",
       "797753  6040  2859  4\n",
       "797754  6040  1296  2\n",
       "797755  6040  3094  2\n",
       "797756  6040  3543  4\n",
       "797757  6040  1225  3\n",
       "\n",
       "[797758 rows x 3 columns]"
      ],
      "text/html": "<div>\n<style scoped>\n    .dataframe tbody tr th:only-of-type {\n        vertical-align: middle;\n    }\n\n    .dataframe tbody tr th {\n        vertical-align: top;\n    }\n\n    .dataframe thead th {\n        text-align: right;\n    }\n</style>\n<table border=\"1\" class=\"dataframe\">\n  <thead>\n    <tr style=\"text-align: right;\">\n      <th></th>\n      <th>0</th>\n      <th>1</th>\n      <th>2</th>\n    </tr>\n  </thead>\n  <tbody>\n    <tr>\n      <th>0</th>\n      <td>1</td>\n      <td>48</td>\n      <td>5</td>\n    </tr>\n    <tr>\n      <th>1</th>\n      <td>1</td>\n      <td>1566</td>\n      <td>4</td>\n    </tr>\n    <tr>\n      <th>2</th>\n      <td>1</td>\n      <td>1907</td>\n      <td>4</td>\n    </tr>\n    <tr>\n      <th>3</th>\n      <td>1</td>\n      <td>2294</td>\n      <td>4</td>\n    </tr>\n    <tr>\n      <th>4</th>\n      <td>1</td>\n      <td>2355</td>\n      <td>5</td>\n    </tr>\n    <tr>\n      <th>...</th>\n      <td>...</td>\n      <td>...</td>\n      <td>...</td>\n    </tr>\n    <tr>\n      <th>797753</th>\n      <td>6040</td>\n      <td>2859</td>\n      <td>4</td>\n    </tr>\n    <tr>\n      <th>797754</th>\n      <td>6040</td>\n      <td>1296</td>\n      <td>2</td>\n    </tr>\n    <tr>\n      <th>797755</th>\n      <td>6040</td>\n      <td>3094</td>\n      <td>2</td>\n    </tr>\n    <tr>\n      <th>797756</th>\n      <td>6040</td>\n      <td>3543</td>\n      <td>4</td>\n    </tr>\n    <tr>\n      <th>797757</th>\n      <td>6040</td>\n      <td>1225</td>\n      <td>3</td>\n    </tr>\n  </tbody>\n</table>\n<p>797758 rows × 3 columns</p>\n</div>"
     },
     "metadata": {},
     "execution_count": 110
    }
   ],
   "source": [
    "pd.DataFrame(x_train_hold)"
   ]
  },
  {
   "cell_type": "code",
   "execution_count": 111,
   "metadata": {},
   "outputs": [
    {
     "output_type": "execute_result",
     "data": {
      "text/plain": [
       "995414"
      ]
     },
     "metadata": {},
     "execution_count": 111
    }
   ],
   "source": [
    "len(x_test_hold)+len(x_train_hold)"
   ]
  },
  {
   "cell_type": "code",
   "execution_count": null,
   "metadata": {},
   "outputs": [],
   "source": []
  },
  {
   "cell_type": "code",
   "execution_count": 83,
   "metadata": {},
   "outputs": [],
   "source": [
    "x_test_hold\n",
    "np.savetxt('data/ml1m/test/train_test.txt',x_test_hold.astype(int), fmt='%i')  "
   ]
  },
  {
   "cell_type": "code",
   "execution_count": 52,
   "metadata": {},
   "outputs": [
    {
     "output_type": "execute_result",
     "data": {
      "text/plain": [
       "         user_id  movie_id  rating  timestamp\n",
       "999868      6040       573       4  956704056\n",
       "999869      6040       589       4  956704996\n",
       "999870      6040         1       3  957717358\n",
       "999871      6040      2068       4  997453982\n",
       "999872      6040       592       2  956716016\n",
       "...          ...       ...     ...        ...\n",
       "1000204     6040      1091       1  956716541\n",
       "1000205     6040      1094       5  956704887\n",
       "1000206     6040       562       5  956704746\n",
       "1000207     6040      1096       4  956715648\n",
       "1000208     6040      1097       4  956715569\n",
       "\n",
       "[341 rows x 4 columns]"
      ],
      "text/html": "<div>\n<style scoped>\n    .dataframe tbody tr th:only-of-type {\n        vertical-align: middle;\n    }\n\n    .dataframe tbody tr th {\n        vertical-align: top;\n    }\n\n    .dataframe thead th {\n        text-align: right;\n    }\n</style>\n<table border=\"1\" class=\"dataframe\">\n  <thead>\n    <tr style=\"text-align: right;\">\n      <th></th>\n      <th>user_id</th>\n      <th>movie_id</th>\n      <th>rating</th>\n      <th>timestamp</th>\n    </tr>\n  </thead>\n  <tbody>\n    <tr>\n      <th>999868</th>\n      <td>6040</td>\n      <td>573</td>\n      <td>4</td>\n      <td>956704056</td>\n    </tr>\n    <tr>\n      <th>999869</th>\n      <td>6040</td>\n      <td>589</td>\n      <td>4</td>\n      <td>956704996</td>\n    </tr>\n    <tr>\n      <th>999870</th>\n      <td>6040</td>\n      <td>1</td>\n      <td>3</td>\n      <td>957717358</td>\n    </tr>\n    <tr>\n      <th>999871</th>\n      <td>6040</td>\n      <td>2068</td>\n      <td>4</td>\n      <td>997453982</td>\n    </tr>\n    <tr>\n      <th>999872</th>\n      <td>6040</td>\n      <td>592</td>\n      <td>2</td>\n      <td>956716016</td>\n    </tr>\n    <tr>\n      <th>...</th>\n      <td>...</td>\n      <td>...</td>\n      <td>...</td>\n      <td>...</td>\n    </tr>\n    <tr>\n      <th>1000204</th>\n      <td>6040</td>\n      <td>1091</td>\n      <td>1</td>\n      <td>956716541</td>\n    </tr>\n    <tr>\n      <th>1000205</th>\n      <td>6040</td>\n      <td>1094</td>\n      <td>5</td>\n      <td>956704887</td>\n    </tr>\n    <tr>\n      <th>1000206</th>\n      <td>6040</td>\n      <td>562</td>\n      <td>5</td>\n      <td>956704746</td>\n    </tr>\n    <tr>\n      <th>1000207</th>\n      <td>6040</td>\n      <td>1096</td>\n      <td>4</td>\n      <td>956715648</td>\n    </tr>\n    <tr>\n      <th>1000208</th>\n      <td>6040</td>\n      <td>1097</td>\n      <td>4</td>\n      <td>956715569</td>\n    </tr>\n  </tbody>\n</table>\n<p>341 rows × 4 columns</p>\n</div>"
     },
     "metadata": {},
     "execution_count": 52
    }
   ],
   "source": [
    "df = ratings[ratings.user_id == 6040]\n",
    "df"
   ]
  },
  {
   "cell_type": "code",
   "execution_count": 56,
   "metadata": {},
   "outputs": [
    {
     "output_type": "execute_result",
     "data": {
      "text/plain": [
       "         user_id  movie_id  rating  timestamp\n",
       "148            2        21       1  978299839\n",
       "180            2      3893       1  978299535\n",
       "205            3      1261       1  978297663\n",
       "249            4      3527       1  978294008\n",
       "268            5      2916       1  978245645\n",
       "...          ...       ...     ...        ...\n",
       "1000171     6040      3388       1  956716407\n",
       "1000177     6040      2751       1  956716438\n",
       "1000185     6040      2794       1  956716438\n",
       "1000187     6040      2003       1  956716294\n",
       "1000204     6040      1091       1  956716541\n",
       "\n",
       "[56174 rows x 4 columns]"
      ],
      "text/html": "<div>\n<style scoped>\n    .dataframe tbody tr th:only-of-type {\n        vertical-align: middle;\n    }\n\n    .dataframe tbody tr th {\n        vertical-align: top;\n    }\n\n    .dataframe thead th {\n        text-align: right;\n    }\n</style>\n<table border=\"1\" class=\"dataframe\">\n  <thead>\n    <tr style=\"text-align: right;\">\n      <th></th>\n      <th>user_id</th>\n      <th>movie_id</th>\n      <th>rating</th>\n      <th>timestamp</th>\n    </tr>\n  </thead>\n  <tbody>\n    <tr>\n      <th>148</th>\n      <td>2</td>\n      <td>21</td>\n      <td>1</td>\n      <td>978299839</td>\n    </tr>\n    <tr>\n      <th>180</th>\n      <td>2</td>\n      <td>3893</td>\n      <td>1</td>\n      <td>978299535</td>\n    </tr>\n    <tr>\n      <th>205</th>\n      <td>3</td>\n      <td>1261</td>\n      <td>1</td>\n      <td>978297663</td>\n    </tr>\n    <tr>\n      <th>249</th>\n      <td>4</td>\n      <td>3527</td>\n      <td>1</td>\n      <td>978294008</td>\n    </tr>\n    <tr>\n      <th>268</th>\n      <td>5</td>\n      <td>2916</td>\n      <td>1</td>\n      <td>978245645</td>\n    </tr>\n    <tr>\n      <th>...</th>\n      <td>...</td>\n      <td>...</td>\n      <td>...</td>\n      <td>...</td>\n    </tr>\n    <tr>\n      <th>1000171</th>\n      <td>6040</td>\n      <td>3388</td>\n      <td>1</td>\n      <td>956716407</td>\n    </tr>\n    <tr>\n      <th>1000177</th>\n      <td>6040</td>\n      <td>2751</td>\n      <td>1</td>\n      <td>956716438</td>\n    </tr>\n    <tr>\n      <th>1000185</th>\n      <td>6040</td>\n      <td>2794</td>\n      <td>1</td>\n      <td>956716438</td>\n    </tr>\n    <tr>\n      <th>1000187</th>\n      <td>6040</td>\n      <td>2003</td>\n      <td>1</td>\n      <td>956716294</td>\n    </tr>\n    <tr>\n      <th>1000204</th>\n      <td>6040</td>\n      <td>1091</td>\n      <td>1</td>\n      <td>956716541</td>\n    </tr>\n  </tbody>\n</table>\n<p>56174 rows × 4 columns</p>\n</div>"
     },
     "metadata": {},
     "execution_count": 56
    }
   ],
   "source": [
    "df = ratings[ratings.rating == 1]\n",
    "df"
   ]
  },
  {
   "cell_type": "code",
   "execution_count": 58,
   "metadata": {},
   "outputs": [
    {
     "output_type": "execute_result",
     "data": {
      "text/plain": [
       "         user_id  movie_id  rating  timestamp\n",
       "0              1      1193       5  978300760\n",
       "1              1       661       3  978302109\n",
       "2              1       914       3  978301968\n",
       "3              1      3408       4  978300275\n",
       "4              1      2355       5  978824291\n",
       "...          ...       ...     ...        ...\n",
       "1000204     6040      1091       1  956716541\n",
       "1000205     6040      1094       5  956704887\n",
       "1000206     6040       562       5  956704746\n",
       "1000207     6040      1096       4  956715648\n",
       "1000208     6040      1097       4  956715569\n",
       "\n",
       "[1000209 rows x 4 columns]"
      ],
      "text/html": "<div>\n<style scoped>\n    .dataframe tbody tr th:only-of-type {\n        vertical-align: middle;\n    }\n\n    .dataframe tbody tr th {\n        vertical-align: top;\n    }\n\n    .dataframe thead th {\n        text-align: right;\n    }\n</style>\n<table border=\"1\" class=\"dataframe\">\n  <thead>\n    <tr style=\"text-align: right;\">\n      <th></th>\n      <th>user_id</th>\n      <th>movie_id</th>\n      <th>rating</th>\n      <th>timestamp</th>\n    </tr>\n  </thead>\n  <tbody>\n    <tr>\n      <th>0</th>\n      <td>1</td>\n      <td>1193</td>\n      <td>5</td>\n      <td>978300760</td>\n    </tr>\n    <tr>\n      <th>1</th>\n      <td>1</td>\n      <td>661</td>\n      <td>3</td>\n      <td>978302109</td>\n    </tr>\n    <tr>\n      <th>2</th>\n      <td>1</td>\n      <td>914</td>\n      <td>3</td>\n      <td>978301968</td>\n    </tr>\n    <tr>\n      <th>3</th>\n      <td>1</td>\n      <td>3408</td>\n      <td>4</td>\n      <td>978300275</td>\n    </tr>\n    <tr>\n      <th>4</th>\n      <td>1</td>\n      <td>2355</td>\n      <td>5</td>\n      <td>978824291</td>\n    </tr>\n    <tr>\n      <th>...</th>\n      <td>...</td>\n      <td>...</td>\n      <td>...</td>\n      <td>...</td>\n    </tr>\n    <tr>\n      <th>1000204</th>\n      <td>6040</td>\n      <td>1091</td>\n      <td>1</td>\n      <td>956716541</td>\n    </tr>\n    <tr>\n      <th>1000205</th>\n      <td>6040</td>\n      <td>1094</td>\n      <td>5</td>\n      <td>956704887</td>\n    </tr>\n    <tr>\n      <th>1000206</th>\n      <td>6040</td>\n      <td>562</td>\n      <td>5</td>\n      <td>956704746</td>\n    </tr>\n    <tr>\n      <th>1000207</th>\n      <td>6040</td>\n      <td>1096</td>\n      <td>4</td>\n      <td>956715648</td>\n    </tr>\n    <tr>\n      <th>1000208</th>\n      <td>6040</td>\n      <td>1097</td>\n      <td>4</td>\n      <td>956715569</td>\n    </tr>\n  </tbody>\n</table>\n<p>1000209 rows × 4 columns</p>\n</div>"
     },
     "metadata": {},
     "execution_count": 58
    }
   ],
   "source": [
    "ratings"
   ]
  },
  {
   "cell_type": "code",
   "execution_count": 34,
   "metadata": {},
   "outputs": [
    {
     "output_type": "execute_result",
     "data": {
      "text/plain": [
       "458455"
      ]
     },
     "metadata": {},
     "execution_count": 34
    }
   ],
   "source": [
    "unique = ratings.timestamp.unique()\n",
    "len(unique)"
   ]
  },
  {
   "cell_type": "code",
   "execution_count": 54,
   "metadata": {},
   "outputs": [
    {
     "output_type": "execute_result",
     "data": {
      "text/plain": [
       "         user_id  movie_id  rating  timestamp\n",
       "1000042     6040      1221       4  998315055\n",
       "1000167     6040       161       3  997454486\n",
       "1000172     6040      1784       3  997454464\n",
       "999988      6040      1921       4  997454464\n",
       "1000019     6040      2917       4  997454429\n",
       "...          ...       ...     ...        ...\n",
       "1000007     6040      1961       4  956703977\n",
       "1000192     6040      2019       5  956703977\n",
       "1000153     6040      2384       4  956703954\n",
       "999873      6040       593       5  956703954\n",
       "1000138     6040       858       4  956703932\n",
       "\n",
       "[341 rows x 4 columns]"
      ],
      "text/html": "<div>\n<style scoped>\n    .dataframe tbody tr th:only-of-type {\n        vertical-align: middle;\n    }\n\n    .dataframe tbody tr th {\n        vertical-align: top;\n    }\n\n    .dataframe thead th {\n        text-align: right;\n    }\n</style>\n<table border=\"1\" class=\"dataframe\">\n  <thead>\n    <tr style=\"text-align: right;\">\n      <th></th>\n      <th>user_id</th>\n      <th>movie_id</th>\n      <th>rating</th>\n      <th>timestamp</th>\n    </tr>\n  </thead>\n  <tbody>\n    <tr>\n      <th>1000042</th>\n      <td>6040</td>\n      <td>1221</td>\n      <td>4</td>\n      <td>998315055</td>\n    </tr>\n    <tr>\n      <th>1000167</th>\n      <td>6040</td>\n      <td>161</td>\n      <td>3</td>\n      <td>997454486</td>\n    </tr>\n    <tr>\n      <th>1000172</th>\n      <td>6040</td>\n      <td>1784</td>\n      <td>3</td>\n      <td>997454464</td>\n    </tr>\n    <tr>\n      <th>999988</th>\n      <td>6040</td>\n      <td>1921</td>\n      <td>4</td>\n      <td>997454464</td>\n    </tr>\n    <tr>\n      <th>1000019</th>\n      <td>6040</td>\n      <td>2917</td>\n      <td>4</td>\n      <td>997454429</td>\n    </tr>\n    <tr>\n      <th>...</th>\n      <td>...</td>\n      <td>...</td>\n      <td>...</td>\n      <td>...</td>\n    </tr>\n    <tr>\n      <th>1000007</th>\n      <td>6040</td>\n      <td>1961</td>\n      <td>4</td>\n      <td>956703977</td>\n    </tr>\n    <tr>\n      <th>1000192</th>\n      <td>6040</td>\n      <td>2019</td>\n      <td>5</td>\n      <td>956703977</td>\n    </tr>\n    <tr>\n      <th>1000153</th>\n      <td>6040</td>\n      <td>2384</td>\n      <td>4</td>\n      <td>956703954</td>\n    </tr>\n    <tr>\n      <th>999873</th>\n      <td>6040</td>\n      <td>593</td>\n      <td>5</td>\n      <td>956703954</td>\n    </tr>\n    <tr>\n      <th>1000138</th>\n      <td>6040</td>\n      <td>858</td>\n      <td>4</td>\n      <td>956703932</td>\n    </tr>\n  </tbody>\n</table>\n<p>341 rows × 4 columns</p>\n</div>"
     },
     "metadata": {},
     "execution_count": 54
    }
   ],
   "source": [
    "df"
   ]
  },
  {
   "cell_type": "code",
   "execution_count": 55,
   "metadata": {},
   "outputs": [
    {
     "output_type": "stream",
     "name": "stdout",
     "text": [
      "573\n589\n1\n2068\n592\n593\n3016\n3017\n2070\n1419\n2076\n3039\n903\n904\n908\n910\n912\n913\n1449\n916\n919\n920\n923\n924\n2402\n2407\n2408\n3067\n930\n3068\n2410\n2411\n3070\n3072\n2421\n3083\n3089\n953\n3094\n3095\n2439\n3097\n978\n2455\n2456\n2463\n994\n3418\n2471\n3421\n3422\n3424\n213\n1834\n3449\n232\n235\n246\n247\n2802\n3471\n260\n263\n265\n1103\n1104\n290\n296\n1111\n2852\n2858\n2859\n2863\n1124\n1127\n3819\n2872\n1136\n608\n1150\n2100\n2111\n1172\n1173\n1179\n649\n1185\n1188\n1189\n2134\n1193\n1196\n1198\n1199\n2146\n2147\n2150\n3101\n3108\n3111\n3134\n1537\n1554\n2503\n3168\n2512\n2513\n3182\n1587\n1594\n3504\n1900\n3505\n1912\n2571\n300\n2575\n306\n3521\n3524\n1921\n2580\n1929\n318\n326\n2599\n3543\n3547\n1945\n1947\n334\n17\n3552\n1952\n1954\n25\n348\n29\n1960\n1961\n1962\n1963\n1965\n1966\n30\n32\n34\n357\n36\n39\n2915\n2917\n2919\n1974\n1975\n45\n50\n373\n58\n2938\n1991\n1200\n1203\n1206\n1208\n1210\n1211\n1212\n1213\n1214\n1217\n1219\n80\n1220\n1221\n1222\n1225\n1228\n1230\n1231\n2973\n1235\n1237\n1240\n1242\n1244\n2985\n1246\n1247\n2987\n1248\n1249\n2989\n1250\n1251\n1252\n1253\n720\n1254\n722\n2997\n1258\n1259\n1263\n1264\n1265\n1270\n1273\n1276\n1278\n1280\n1283\n750\n1285\n1288\n759\n1291\n1293\n1294\n1295\n1296\n1299\n2241\n2248\n778\n3201\n1617\n3224\n2286\n2289\n1633\n1635\n1641\n1649\n3262\n1663\n2612\n1673\n1674\n2624\n3289\n1694\n1699\n2641\n2645\n2648\n2664\n2692\n446\n448\n457\n3671\n3683\n1300\n1305\n1307\n495\n1321\n1333\n800\n1354\n1358\n2300\n2301\n2303\n2312\n1373\n1374\n1376\n2324\n858\n1392\n"
     ]
    }
   ],
   "source": [
    "for i in range(int(len(df)*0.8)):\n",
    "    print(df.movie_id[i+999868])"
   ]
  },
  {
   "cell_type": "code",
   "execution_count": null,
   "metadata": {},
   "outputs": [],
   "source": [
    "df = np.array(ratings.drop('timestamp',axis='columns', inplace=True))"
   ]
  },
  {
   "cell_type": "code",
   "execution_count": null,
   "metadata": {},
   "outputs": [],
   "source": [
    "ratings = np.array(ratings)\n",
    "ratings"
   ]
  },
  {
   "cell_type": "code",
   "execution_count": null,
   "metadata": {},
   "outputs": [],
   "source": [
    "for i in range(len(ratings)):\n",
    "    ratings[i][2] = 1"
   ]
  },
  {
   "cell_type": "code",
   "execution_count": null,
   "metadata": {},
   "outputs": [],
   "source": [
    "ratings"
   ]
  },
  {
   "cell_type": "code",
   "execution_count": null,
   "metadata": {},
   "outputs": [],
   "source": [
    "x_train_hold, x_test_hold = train_test_split(ratings, test_size=0.2, random_state=42)"
   ]
  },
  {
   "cell_type": "code",
   "execution_count": null,
   "metadata": {},
   "outputs": [],
   "source": [
    "from sklearn.model_selection import ShuffleSplit\n",
    "k = 10\n",
    "test_size = 0.2\n",
    "random_state = 42\n",
    "kf = ShuffleSplit(n_splits=k, test_size=test_size, random_state=random_state)\n",
    "\n",
    "kf.get_n_splits(ratings)"
   ]
  },
  {
   "cell_type": "code",
   "execution_count": null,
   "metadata": {},
   "outputs": [],
   "source": [
    "for train_index, test_index in kf.split(ratings):\n",
    "            x_train_CV, x_test_CV = ratings[train_index], ratings[test_index]"
   ]
  },
  {
   "cell_type": "code",
   "execution_count": null,
   "metadata": {},
   "outputs": [],
   "source": [
    "for train_index, test_index in kf.split(x_train_CV):\n",
    "            y_train_CV, y_test_CV = ratings[train_index], ratings[test_index]"
   ]
  },
  {
   "cell_type": "code",
   "execution_count": null,
   "metadata": {},
   "outputs": [],
   "source": [
    "np.savetxt('data/ml1m/test/train_CV.txt',x_train_CV.astype(int), fmt='%i')  \n",
    "np.savetxt('data/ml1m/test/test_CV.txt',x_test_CV.astype(int), fmt='%i')\n",
    "np.savetxt('data/ml1m/validation/valid_train_CV.txt',y_train_CV.astype(int), fmt='%i')\n",
    "np.savetxt('data/ml1m/validation/valid_test_CV.txt',x_test_CV.astype(int), fmt='%i')\n",
    "np.savetxt('data/ml1m/test/train_hold.txt',x_train_hold.astype(int), fmt='%i')  \n",
    "np.savetxt('data/ml1m/test/test_hold.txt',x_test_hold.astype(int), fmt='%i')"
   ]
  },
  {
   "cell_type": "code",
   "execution_count": null,
   "metadata": {},
   "outputs": [],
   "source": [
    "x_test_hold"
   ]
  },
  {
   "cell_type": "code",
   "execution_count": null,
   "metadata": {},
   "outputs": [],
   "source": []
  },
  {
   "cell_type": "code",
   "execution_count": null,
   "metadata": {},
   "outputs": [],
   "source": [
    "np.savetxt('data/ml1m/test/train_test.txt',x_train_CV.astype(int), fmt='%i')  "
   ]
  }
 ]
}